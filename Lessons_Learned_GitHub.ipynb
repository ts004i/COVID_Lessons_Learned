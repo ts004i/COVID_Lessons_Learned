{
 "cells": [
  {
   "cell_type": "code",
   "execution_count": 1,
   "id": "03156dd0",
   "metadata": {},
   "outputs": [],
   "source": [
    "import pandas as pd\n",
    "import numpy as np\n",
    "import string\n",
    "import re\n",
    "import nltk\n",
    "import csv\n",
    "import spacy\n",
    "import locationtagger\n",
    "\n",
    "\n",
    "from sklearn.feature_extraction.text import CountVectorizer, TfidfVectorizer\n",
    "from sklearn.metrics import accuracy_score, precision_score"
   ]
  },
  {
   "cell_type": "markdown",
   "id": "645dc17d",
   "metadata": {},
   "source": [
    "### PubMed data obtained 11/4/22"
   ]
  },
  {
   "cell_type": "code",
   "execution_count": 2,
   "id": "416607ec",
   "metadata": {},
   "outputs": [],
   "source": [
    "data = open(\"pm3.txt\", \"r\", encoding=\"utf8\")\n",
    "file_content = data.read()\n",
    "\n",
    "content_list = file_content.split(\"\\n\\n\")\n",
    "data.close()"
   ]
  },
  {
   "cell_type": "code",
   "execution_count": 3,
   "id": "0a482ab5",
   "metadata": {},
   "outputs": [
    {
     "data": {
      "text/plain": [
       "1260"
      ]
     },
     "execution_count": 3,
     "metadata": {},
     "output_type": "execute_result"
    }
   ],
   "source": [
    "len(content_list)"
   ]
  },
  {
   "cell_type": "code",
   "execution_count": 4,
   "id": "03325385",
   "metadata": {},
   "outputs": [],
   "source": [
    "df = pd.DataFrame(columns=['Date', 'Country', 'Continent','Title', 'Abstract'])"
   ]
  },
  {
   "cell_type": "markdown",
   "id": "4160fcfe",
   "metadata": {},
   "source": [
    "## Add location"
   ]
  },
  {
   "cell_type": "code",
   "execution_count": 5,
   "id": "e6ac6487",
   "metadata": {},
   "outputs": [],
   "source": [
    "for i in range(len(content_list)):\n",
    "    s = content_list[i]\n",
    "    start = 'AD'\n",
    "    location = (s[s.find(start)+(len(start)+4):s.find(start)+(len(start)+200)])\n",
    "    df.loc[i, 'Country']= location"
   ]
  },
  {
   "cell_type": "code",
   "execution_count": 6,
   "id": "8dc2cb0d",
   "metadata": {},
   "outputs": [],
   "source": [
    "loc_list=(df['Country'].to_list())"
   ]
  },
  {
   "cell_type": "code",
   "execution_count": 7,
   "id": "e9d4daec",
   "metadata": {},
   "outputs": [],
   "source": [
    "for i in range(len(loc_list)):\n",
    "    place_entity = locationtagger.find_locations(text = loc_list[i])\n",
    "    countries = place_entity.other_countries\n",
    "    if len(countries) > 0:\n",
    "        df.loc[i, 'Country']= place_entity.other_countries[0]\n",
    "    else:\n",
    "        df.loc[i, 'Country']= np.nan "
   ]
  },
  {
   "cell_type": "code",
   "execution_count": 8,
   "id": "5d2ebc74",
   "metadata": {},
   "outputs": [],
   "source": [
    "import pycountry_convert as pc\n",
    "\n",
    "def country_to_continent(country_name):\n",
    "    country_alpha2 = pc.country_name_to_country_alpha2(country_name)\n",
    "    country_continent_code = pc.country_alpha2_to_continent_code(country_alpha2)\n",
    "    country_continent_name = pc.convert_continent_code_to_continent_name(country_continent_code)\n",
    "    return country_continent_name"
   ]
  },
  {
   "cell_type": "code",
   "execution_count": 9,
   "id": "85e45c38",
   "metadata": {},
   "outputs": [],
   "source": [
    "for i in range(len(df)):\n",
    "    if type(df.iloc[i]['Country']) != float:\n",
    "        df.loc[i, 'Continent']= country_to_continent(df.iloc[i]['Country'])"
   ]
  },
  {
   "cell_type": "code",
   "execution_count": 10,
   "id": "faabf554",
   "metadata": {
    "scrolled": true
   },
   "outputs": [
    {
     "data": {
      "text/html": [
       "<div>\n",
       "<style scoped>\n",
       "    .dataframe tbody tr th:only-of-type {\n",
       "        vertical-align: middle;\n",
       "    }\n",
       "\n",
       "    .dataframe tbody tr th {\n",
       "        vertical-align: top;\n",
       "    }\n",
       "\n",
       "    .dataframe thead th {\n",
       "        text-align: right;\n",
       "    }\n",
       "</style>\n",
       "<table border=\"1\" class=\"dataframe\">\n",
       "  <thead>\n",
       "    <tr style=\"text-align: right;\">\n",
       "      <th></th>\n",
       "      <th>Date</th>\n",
       "      <th>Country</th>\n",
       "      <th>Continent</th>\n",
       "      <th>Title</th>\n",
       "      <th>Abstract</th>\n",
       "    </tr>\n",
       "  </thead>\n",
       "  <tbody>\n",
       "    <tr>\n",
       "      <th>0</th>\n",
       "      <td>NaN</td>\n",
       "      <td>Viet Nam</td>\n",
       "      <td>Asia</td>\n",
       "      <td>NaN</td>\n",
       "      <td>NaN</td>\n",
       "    </tr>\n",
       "    <tr>\n",
       "      <th>1</th>\n",
       "      <td>NaN</td>\n",
       "      <td>United States</td>\n",
       "      <td>North America</td>\n",
       "      <td>NaN</td>\n",
       "      <td>NaN</td>\n",
       "    </tr>\n",
       "    <tr>\n",
       "      <th>2</th>\n",
       "      <td>NaN</td>\n",
       "      <td>NaN</td>\n",
       "      <td>NaN</td>\n",
       "      <td>NaN</td>\n",
       "      <td>NaN</td>\n",
       "    </tr>\n",
       "    <tr>\n",
       "      <th>3</th>\n",
       "      <td>NaN</td>\n",
       "      <td>France</td>\n",
       "      <td>Europe</td>\n",
       "      <td>NaN</td>\n",
       "      <td>NaN</td>\n",
       "    </tr>\n",
       "    <tr>\n",
       "      <th>4</th>\n",
       "      <td>NaN</td>\n",
       "      <td>Hong Kong</td>\n",
       "      <td>Asia</td>\n",
       "      <td>NaN</td>\n",
       "      <td>NaN</td>\n",
       "    </tr>\n",
       "  </tbody>\n",
       "</table>\n",
       "</div>"
      ],
      "text/plain": [
       "  Date        Country      Continent Title Abstract\n",
       "0  NaN       Viet Nam           Asia   NaN      NaN\n",
       "1  NaN  United States  North America   NaN      NaN\n",
       "2  NaN            NaN            NaN   NaN      NaN\n",
       "3  NaN         France         Europe   NaN      NaN\n",
       "4  NaN      Hong Kong           Asia   NaN      NaN"
      ]
     },
     "execution_count": 10,
     "metadata": {},
     "output_type": "execute_result"
    }
   ],
   "source": [
    "df.head(5)"
   ]
  },
  {
   "cell_type": "code",
   "execution_count": 11,
   "id": "8d3fa8a0",
   "metadata": {},
   "outputs": [
    {
     "name": "stdout",
     "output_type": "stream",
     "text": [
      "Full data set: 1260 articles\n",
      "Articles with country data: 1118\n"
     ]
    }
   ],
   "source": [
    "df3 = df[df['Country'].notna()]\n",
    "print (\"Full data set:\", len(df) ,\"articles\")\n",
    "print (\"Articles with country data:\", len(df3))"
   ]
  },
  {
   "cell_type": "code",
   "execution_count": 12,
   "id": "959bbf4d",
   "metadata": {},
   "outputs": [
    {
     "data": {
      "text/plain": [
       "Country\n",
       "United States     463\n",
       "United Kingdom    143\n",
       "Italy              48\n",
       "Canada             35\n",
       "India              33\n",
       "Australia          31\n",
       "France             27\n",
       "Spain              23\n",
       "China              22\n",
       "Cameroon           20\n",
       "dtype: int64"
      ]
     },
     "execution_count": 12,
     "metadata": {},
     "output_type": "execute_result"
    }
   ],
   "source": [
    "results = df3.groupby('Country').size().sort_values(ascending=False)\n",
    "results.head(10)"
   ]
  },
  {
   "cell_type": "code",
   "execution_count": 13,
   "id": "e011e935",
   "metadata": {},
   "outputs": [
    {
     "name": "stdout",
     "output_type": "stream",
     "text": [
      "The number of unique countries: 75\n"
     ]
    }
   ],
   "source": [
    "print (\"The number of unique countries:\", len(pd.unique(df3['Country'])))"
   ]
  },
  {
   "cell_type": "markdown",
   "id": "e8621b52",
   "metadata": {},
   "source": [
    "## Add article titles and dates"
   ]
  },
  {
   "cell_type": "code",
   "execution_count": 14,
   "id": "3bd86c0c",
   "metadata": {},
   "outputs": [],
   "source": [
    "for i in range(len(content_list)):\n",
    "    s = content_list[i]\n",
    "    start = 'EDAT'\n",
    "    date = (s[s.find(start)+(len(start)+2):s.find(start)+(len(start)+12)])\n",
    "    df.loc[i, 'Date']= date\n",
    "    \n",
    "    start = 'TI'\n",
    "    end = 'LID'\n",
    "    title = (s[s.find(start)+(len(start)+3):s.find(end)])\n",
    "    \n",
    "    end = 'PG'\n",
    "    title = (title[:title.find(end)]).strip()\n",
    "    title = re.sub(r'\\n', '', title)\n",
    "    title = re.sub(r'[ ]{2,}', ' ', title)\n",
    "    df.loc[i, 'Title']= title\n",
    "    "
   ]
  },
  {
   "cell_type": "markdown",
   "id": "f05c9a0b",
   "metadata": {},
   "source": [
    "#### Convert dates to datetime objects, fix corrupted dates"
   ]
  },
  {
   "cell_type": "code",
   "execution_count": 15,
   "id": "409785aa",
   "metadata": {},
   "outputs": [],
   "source": [
    "from datetime import  datetime\n",
    "format = '%Y/%m/%d'\n",
    "for i in range(len(df)):\n",
    "    df.loc[i,'Date'] = datetime.strptime(df.loc[i,'Date'], format)"
   ]
  },
  {
   "cell_type": "code",
   "execution_count": 16,
   "id": "03d40a95",
   "metadata": {},
   "outputs": [],
   "source": [
    "for i in range(len(df)):\n",
    "    s = content_list[i]\n",
    "    if df.loc[i,'Date'] < datetime(2020, 2, 1, 0, 0):\n",
    "        df.loc[i,'Date'] = (s[s.find('PHST')+(6):s.find('PHST')+(16)])\n",
    "        df.loc[i,'Date'] = datetime.strptime(df.loc[i,'Date'], format)"
   ]
  },
  {
   "cell_type": "markdown",
   "id": "d0ea400d",
   "metadata": {},
   "source": [
    "## Add abstracts to the dataframe, strip new lines and extra spaces"
   ]
  },
  {
   "cell_type": "code",
   "execution_count": 17,
   "id": "40273807",
   "metadata": {},
   "outputs": [],
   "source": [
    "for i in range(len(content_list)):\n",
    "    s = content_list[i].strip()\n",
    "    start = 'AB'\n",
    "    end = 'FAU'\n",
    "    end2 = 'CI'\n",
    "    end3 = 'TRIAL REGISTRATION'\n",
    "    \n",
    "    if 'AB  -' in s:\n",
    "        abst = (s[s.find(start)+(len(start)+3):s.find(end)])\n",
    "        abst = ((abst[:abst.find(end2)]))\n",
    "        abst = ((abst[:abst.find(end3)]))\n",
    "        abst = re.sub(r'\\n', '', abst)\n",
    "        abst = re.sub(r'[ ]{2,}', ' ', abst)\n",
    "    \n",
    "        #remove digits\n",
    "        #abst = re.sub(r'\\d+', '', abst)\n",
    "    \n",
    "        abst = abst.strip()\n",
    "        df.loc[i, 'Abstract']= abst\n",
    "    \n",
    "    else:\n",
    "        df.loc[i, 'Abstract']= np.nan\n",
    "    "
   ]
  },
  {
   "cell_type": "code",
   "execution_count": 18,
   "id": "4d7a5da8",
   "metadata": {},
   "outputs": [
    {
     "name": "stdout",
     "output_type": "stream",
     "text": [
      "Full data set: 1260 articles\n",
      "Articles with abstracts: 890 articles\n"
     ]
    }
   ],
   "source": [
    "df2 = df.dropna(subset=['Abstract']).copy()\n",
    "df2.reset_index(drop=True, inplace=True)\n",
    "print (\"Full data set:\", len(df) ,\"articles\")\n",
    "print (\"Articles with abstracts:\", len(df2) ,\"articles\")"
   ]
  },
  {
   "cell_type": "code",
   "execution_count": 19,
   "id": "71b85992",
   "metadata": {},
   "outputs": [
    {
     "name": "stdout",
     "output_type": "stream",
     "text": [
      "Total wordcount from 890 abstracts: 176224\n",
      "Average words per article: 198.00449438202247\n"
     ]
    }
   ],
   "source": [
    "wordcount = 0\n",
    "for i in range(len(df2)):\n",
    "    wordcount += len((df2.loc[i][\"Abstract\"]).split())\n",
    "    \n",
    "print(\"Total wordcount from\",len(df2),\"abstracts:\", wordcount)\n",
    "print(\"Average words per article:\", wordcount/len(df2))"
   ]
  },
  {
   "cell_type": "markdown",
   "id": "ac8199cd",
   "metadata": {},
   "source": [
    "## Graph cumulative articles over time "
   ]
  },
  {
   "cell_type": "code",
   "execution_count": 20,
   "id": "45a25b0a",
   "metadata": {},
   "outputs": [],
   "source": [
    "pubdates= df['Date'].tolist()"
   ]
  },
  {
   "cell_type": "code",
   "execution_count": 21,
   "id": "a8ba67db",
   "metadata": {},
   "outputs": [
    {
     "name": "stdout",
     "output_type": "stream",
     "text": [
      "First publication date: 2020-02-23 00:00:00\n",
      "Last publication date: 2022-11-05 00:00:00\n"
     ]
    }
   ],
   "source": [
    "sorted_dates = sorted(pubdates)\n",
    "print ('First publication date:', sorted_dates[0])\n",
    "print ('Last publication date:', sorted_dates[-1])"
   ]
  },
  {
   "cell_type": "code",
   "execution_count": 22,
   "id": "491965dd",
   "metadata": {},
   "outputs": [
    {
     "data": {
      "image/png": "[encoded data removed]",
      "text/plain": [
       "<Figure size 432x288 with 1 Axes>"
      ]
     },
     "metadata": {
      "needs_background": "light"
     },
     "output_type": "display_data"
    }
   ],
   "source": [
    "from matplotlib.dates import date2num, num2date\n",
    "from matplotlib import ticker\n",
    "from matplotlib import pyplot as plt\n",
    "\n",
    "num_dates = [date2num(d) for d in pubdates]\n",
    "histo = np.histogram(num_dates, bins=120)\n",
    "cumulative_histo_counts = histo[0].cumsum()\n",
    "\n",
    "fig, ax = plt.subplots()\n",
    "plt.gca().xaxis.set_major_formatter(ticker.FuncFormatter(lambda x, _: num2date(x).strftime('%m/%Y')))\n",
    "plt.plot(histo[1][1:], cumulative_histo_counts, linewidth=3)\n",
    "plt.style.use('default')\n",
    "ax.grid(axis='y')\n",
    "plt.rc('xtick', labelsize=10) \n",
    "plt.rc('ytick', labelsize=10)\n",
    "plt.xlabel(\"Date\")\n",
    "plt.ylabel(\"Cumulative publications\")\n",
    "plt.fill_between(histo[1][1:], cumulative_histo_counts, color='#1f77b4')\n",
    "plt.show()\n"
   ]
  },
  {
   "cell_type": "markdown",
   "id": "7c682080",
   "metadata": {},
   "source": [
    "## TF-IDF"
   ]
  },
  {
   "cell_type": "code",
   "execution_count": 23,
   "id": "61df23ad",
   "metadata": {},
   "outputs": [],
   "source": [
    "from sklearn.feature_extraction.text import ENGLISH_STOP_WORDS\n",
    "custom = list(ENGLISH_STOP_WORDS)\n",
    "new_words = ['covid','sars', 'cov','introduction','background', 'lessons', 'learned', 'pandemic', 'health']\n",
    "custom += new_words"
   ]
  },
  {
   "cell_type": "markdown",
   "id": "5e1a6f3d",
   "metadata": {},
   "source": [
    "### Text Blob stemmer and tokenizer"
   ]
  },
  {
   "cell_type": "code",
   "execution_count": 24,
   "id": "68fc92f2",
   "metadata": {},
   "outputs": [],
   "source": [
    "from textblob import TextBlob\n",
    "\n",
    "def textblob_tokenizer(str_input):\n",
    "    str_input = re.sub(r'\\d+', '', str_input)\n",
    "    blob = TextBlob(str_input.lower())\n",
    "    tokens = blob.words\n",
    "    words = [token.stem() for token in tokens]\n",
    "    return words"
   ]
  },
  {
   "cell_type": "code",
   "execution_count": 25,
   "id": "35076e21",
   "metadata": {},
   "outputs": [],
   "source": [
    "stop_tokens=[]\n",
    "for i in custom:\n",
    "    blob = TextBlob(i)\n",
    "    tokens = blob.words\n",
    "    stemmed = [token.stem() for token in tokens]\n",
    "    stop_tokens.append(stemmed[0])"
   ]
  },
  {
   "cell_type": "code",
   "execution_count": 26,
   "id": "622fe739",
   "metadata": {},
   "outputs": [
    {
     "name": "stderr",
     "output_type": "stream",
     "text": [
      "C:\\Users\\ts004\\anaconda3\\lib\\site-packages\\sklearn\\feature_extraction\\text.py:388: UserWarning: Your stop_words may be inconsistent with your preprocessing. Tokenizing the stop words generated tokens ['anywh', 'becau', 'el', 'elsewh', 'everywh', 'ind', 'otherwi', 'plea', 'somewh'] not in stop_words.\n",
      "  warnings.warn('Your stop_words may be inconsistent with '\n"
     ]
    }
   ],
   "source": [
    "tfidf = TfidfVectorizer(stop_words= stop_tokens, tokenizer=textblob_tokenizer)\n",
    "data = tfidf.fit_transform((df2['Abstract']))\n",
    "tokens = tfidf.get_feature_names()\n",
    "#tokens"
   ]
  },
  {
   "cell_type": "markdown",
   "id": "1ee92901",
   "metadata": {},
   "source": [
    "## Kmeans\n"
   ]
  },
  {
   "cell_type": "code",
   "execution_count": 27,
   "id": "e027ab07",
   "metadata": {},
   "outputs": [
    {
     "data": {
      "text/plain": [
       "KMeans(random_state=1)"
      ]
     },
     "execution_count": 27,
     "metadata": {},
     "output_type": "execute_result"
    }
   ],
   "source": [
    "from sklearn.cluster import KMeans\n",
    "\n",
    "number_of_clusters=8\n",
    "\n",
    "km = KMeans(n_clusters=number_of_clusters,random_state=1)\n",
    "\n",
    "km.fit(data)"
   ]
  },
  {
   "cell_type": "code",
   "execution_count": 28,
   "id": "f3f1c9d9",
   "metadata": {},
   "outputs": [],
   "source": [
    "df2['Labels']=km.labels_"
   ]
  },
  {
   "cell_type": "code",
   "execution_count": 29,
   "id": "9f392851",
   "metadata": {},
   "outputs": [
    {
     "name": "stdout",
     "output_type": "stream",
     "text": [
      "Counts per cluster \n",
      "\n",
      "Cluster 0 :  30\n",
      "Cluster 1 :  81\n",
      "Cluster 2 :  77\n",
      "Cluster 3 :  117\n",
      "Cluster 4 :  299\n",
      "Cluster 5 :  50\n",
      "Cluster 6 :  81\n",
      "Cluster 7 :  155\n"
     ]
    }
   ],
   "source": [
    "a = km.labels_\n",
    "unique, counts = np.unique(a, return_counts=True)\n",
    "\n",
    "result = dict(zip(unique, counts))\n",
    "print (\"Counts per cluster \\n\")\n",
    "for i,j in result.items():\n",
    "    print(\"Cluster\",i,\": \",j)\n",
    "    "
   ]
  },
  {
   "cell_type": "code",
   "execution_count": 30,
   "id": "d1fe6a27",
   "metadata": {},
   "outputs": [
    {
     "name": "stdout",
     "output_type": "stream",
     "text": [
      "Top 5 terms per cluster:\n",
      "Cluster 0: trial clinic research drug studi\n",
      "Cluster 1: sars-cov diseas respiratori coronaviru infect\n",
      "Cluster 2: educ student resid train program\n",
      "Cluster 3: care patient hospit manag staff\n",
      "Cluster 4: respons public commun countri outbreak\n",
      "Cluster 5: vaccin hesit develop uptak campaign\n",
      "Cluster 6: telemedicin care visit patient servic\n",
      "Cluster 7: patient cancer p hospit surgeri\n"
     ]
    }
   ],
   "source": [
    "num_words=5\n",
    "\n",
    "print(\"Top\", num_words, \"terms per cluster:\")\n",
    "order_centroids = km.cluster_centers_.argsort()[:, ::-1]\n",
    "terms = tokens\n",
    "\n",
    "for i in range(number_of_clusters):\n",
    "    top_words = [terms[ind] for ind in order_centroids[i, :num_words]]\n",
    "    print(\"Cluster {}: {}\".format(i, ' '.join(top_words)))"
   ]
  },
  {
   "cell_type": "markdown",
   "id": "ac84f400",
   "metadata": {},
   "source": [
    "## Explore clusters"
   ]
  },
  {
   "cell_type": "code",
   "execution_count": 31,
   "id": "fde5424b",
   "metadata": {},
   "outputs": [],
   "source": [
    "def get_titles (cluster):\n",
    "    pd.set_option('display.max_colwidth', -1)\n",
    "    pd.set_option('display.max_rows', None)\n",
    "    print( df2[df2['Labels']==cluster][\"Title\"])"
   ]
  },
  {
   "cell_type": "code",
   "execution_count": 32,
   "id": "22f7f329",
   "metadata": {},
   "outputs": [],
   "source": [
    "def get_abstracts(cluster):\n",
    "    pd.set_option('display.max_colwidth', -1)\n",
    "    pd.set_option('display.max_rows', None)\n",
    "    print(df2[df2['Labels']==cluster]['Abstract'])"
   ]
  }
 ],
 "metadata": {
  "kernelspec": {
   "display_name": "Python 3",
   "language": "python",
   "name": "python3"
  },
  "language_info": {
   "codemirror_mode": {
    "name": "ipython",
    "version": 3
   },
   "file_extension": ".py",
   "mimetype": "text/x-python",
   "name": "python",
   "nbconvert_exporter": "python",
   "pygments_lexer": "ipython3",
   "version": "3.8.8"
  }
 },
 "nbformat": 4,
 "nbformat_minor": 5
}
